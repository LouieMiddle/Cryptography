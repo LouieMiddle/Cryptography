{
 "cells": [
  {
   "cell_type": "code",
   "execution_count": 1,
   "metadata": {},
   "outputs": [],
   "source": [
    "#el668\n",
    "import numpy as np"
   ]
  },
  {
   "cell_type": "code",
   "execution_count": 2,
   "metadata": {},
   "outputs": [],
   "source": [
    "def apply_sbox3(num_in,s_box):\n",
    "    return s_box[num_in]\n"
   ]
  },
  {
   "cell_type": "code",
   "execution_count": 3,
   "metadata": {},
   "outputs": [],
   "source": [
    "def val_count(input_diff,sbox):\n",
    "    # a star s.t. a xor a* =  input_diff\n",
    "    a_star = np.zeros(16)\n",
    "    for i in range (16): \n",
    "        for j in range(16):\n",
    "            if np.bitwise_xor(i,j) == input_diff:\n",
    "                a_star[i] = j\n",
    "    a_star = a_star.astype(int)\n",
    "\n",
    "    # b, b_star, b_prime\n",
    "    # b = s_box(a)\n",
    "    # b* = s_box(b)\n",
    "    # b' = output diff b xor b*\n",
    "\n",
    "    b= np.zeros(16)\n",
    "    b_star= np.zeros(16)\n",
    "    b_prime= np.zeros(16)\n",
    "    for i in range(a_star.shape[0]):\n",
    "        b_star[i] = apply_sbox3(a_star[i],sbox)\n",
    "        b[i] = apply_sbox3(i,sbox)\n",
    "\n",
    "    b_star = b_star.astype(int)\n",
    "    b = b.astype(int)\n",
    "\n",
    "\n",
    "    #b_prime\n",
    "    for i in range(a_star.shape[0]):\n",
    "        b_prime[i] = np.bitwise_xor(b[i],b_star[i])\n",
    "    b_prime = b_prime.astype(int)\n",
    "    \n",
    "    #do the counts\n",
    "    vals,counts = np.unique(b_prime, return_counts = True)\n",
    "    return vals, counts"
   ]
  },
  {
   "cell_type": "code",
   "execution_count": 4,
   "metadata": {},
   "outputs": [
    {
     "name": "stdout",
     "output_type": "stream",
     "text": [
      "0: [16.  0.  0.  0.  0.  0.  0.  0.  0.  0.  0.  0.  0.  0.  0.  0.]\n",
      "1: [0. 0. 0. 4. 0. 0. 2. 2. 0. 0. 2. 2. 0. 4. 0. 0.]\n",
      "2: [0. 0. 0. 2. 0. 0. 0. 2. 0. 6. 0. 0. 2. 0. 2. 2.]\n",
      "3: [0. 0. 0. 2. 6. 0. 0. 0. 2. 0. 4. 0. 0. 0. 0. 2.]\n",
      "4: [0. 0. 0. 0. 0. 0. 0. 4. 0. 2. 4. 2. 2. 0. 2. 0.]\n",
      "5: [0. 4. 0. 0. 2. 0. 0. 2. 0. 2. 2. 0. 0. 4. 0. 0.]\n",
      "6: [0. 0. 0. 2. 0. 4. 0. 2. 0. 2. 0. 0. 0. 2. 4. 0.]\n",
      "7: [0. 0. 0. 2. 4. 0. 2. 0. 2. 0. 0. 0. 0. 2. 4. 0.]\n",
      "8: [0. 0. 0. 0. 0. 2. 6. 0. 0. 0. 2. 2. 0. 2. 0. 2.]\n",
      "9: [0. 0. 0. 0. 0. 2. 2. 0. 0. 0. 0. 4. 4. 2. 2. 0.]\n",
      "10: [0. 2. 2. 0. 2. 0. 2. 0. 2. 2. 0. 0. 0. 0. 0. 4.]\n",
      "11: [0. 2. 6. 0. 0. 4. 0. 0. 0. 0. 0. 0. 2. 0. 0. 2.]\n",
      "12: [0. 6. 0. 0. 2. 0. 0. 0. 0. 0. 2. 0. 4. 0. 0. 2.]\n",
      "13: [0. 2. 4. 0. 0. 0. 2. 4. 0. 0. 0. 2. 2. 0. 0. 0.]\n",
      "14: [0. 0. 2. 4. 0. 2. 0. 0. 6. 0. 0. 0. 0. 0. 0. 2.]\n",
      "15: [0. 0. 2. 0. 0. 2. 0. 0. 4. 2. 0. 4. 0. 0. 2. 0.]\n"
     ]
    }
   ],
   "source": [
    "sbox3 = {0:7,1:13,2:14,3:3,4:0,5:6,6:9,7:10,8:1,9:2,10:8,11:5,12:11,13:12,14:4,15:15} # given s box\n",
    "diff_table = {diffs: np.zeros(16) for diffs in range(16)}\n",
    "\n",
    "for input_diff in diff_table.keys():\n",
    "    vals, counts = val_count(input_diff,sbox3)\n",
    "    for i in range(vals.shape[0]):\n",
    "        diff_table[input_diff][vals[i]] = counts[i]\n",
    "for k in diff_table.keys():\n",
    "    print(f'{k}: {diff_table[k]}')\n",
    "    \n",
    "# index position in the dict value list is the possible output difference. \n",
    "# diff_table[input diff][output diff] = occurrence\n",
    "# diff_table[12][1] = 6\n"
   ]
  }
 ],
 "metadata": {
  "interpreter": {
   "hash": "7fd4f6a2d84b5eb91f23d4323bd81a9f1ebb917a75928987b1dcfb6ae88cc294"
  },
  "kernelspec": {
   "display_name": "Python 3",
   "language": "python",
   "name": "python3"
  },
  "language_info": {
   "codemirror_mode": {
    "name": "ipython",
    "version": 3
   },
   "file_extension": ".py",
   "mimetype": "text/x-python",
   "name": "python",
   "nbconvert_exporter": "python",
   "pygments_lexer": "ipython3",
   "version": "3.9.12"
  }
 },
 "nbformat": 4,
 "nbformat_minor": 2
}
